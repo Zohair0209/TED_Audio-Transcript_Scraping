{
 "cells": [
  {
   "cell_type": "code",
   "execution_count": 4,
   "metadata": {},
   "outputs": [],
   "source": [
    "def load_urls_from_file(file_path):\n",
    "    with open(file_path, 'r') as file:\n",
    "        urls = [line.strip() for line in file.readlines()]\n",
    "    return urls\n",
    "\n",
    "url_list = load_urls_from_file(\"relative_path_to_file_containing_urls\")"
   ]
  },
  {
   "cell_type": "code",
   "execution_count": 6,
   "metadata": {},
   "outputs": [],
   "source": [
    "import os\n",
    "import pydub\n",
    "from pydub import AudioSegment\n",
    "\n",
    "transcript_directory = \"relative_path_to_directory_containing_transcripts\"\n",
    "audio_directory = \"relative_path_to_directory_containing_audio_files\"\n",
    "\n",
    "for i in range(len(url_list)):\n",
    "    os.makedirs(audio_directory + str(i) + \"/sentenceFiles\" , exist_ok=True)\n",
    "\n",
    "def split_audio_file(input_file, output_file, start_time, duration):\n",
    "    audio = AudioSegment.from_file(input_file)\n",
    "    start_time_ms = start_time * 1000  # Convert start time to milliseconds\n",
    "    end_time_ms = start_time_ms + (duration * 1000)  # Calculate end time in milliseconds\n",
    "    output_audio = audio[start_time_ms:end_time_ms]  # Extract the desired segment\n",
    "\n",
    "    output_audio.export(output_file, format=\"wav\")  # Save the segment as a new audio file\n",
    "\n",
    "\n",
    "for i in range(len(url_list)):\n",
    "    t_dir = transcript_directory + str(i) + \"/en.vtt\"\n",
    "    \n",
    "    for file in os.listdir(audio_directory + str(i) + \"/\"):\n",
    "        if file.endswith(\".wav\"):\n",
    "            input_file = audio_directory + str(i) + \"/\" + file\n",
    "            break\n",
    "    \n",
    "    save_directory = audio_directory + str(i) + \"/sentenceFiles/\"\n",
    "\n",
    "    with open(t_dir, 'r', encoding='utf-8') as file:\n",
    "        lines = file.readlines()\n",
    "        for line in lines:\n",
    "            if line[0] == '0':\n",
    "                # Extract the start and end time stamps from this line\n",
    "                start_time = line[0:12]\n",
    "                end_time = line[17:29]\n",
    "                # Convert the time stamps to seconds\n",
    "                start_time = int(start_time[0:2])*3600 + int(start_time[3:5])*60 + int(start_time[6:8]) + int(start_time[9:12])/1000\n",
    "                end_time = int(end_time[0:2])*3600 + int(end_time[3:5])*60 + int(end_time[6:8]) + int(end_time[9:12])/1000\n",
    "\n",
    "                effective_start_time = start_time - 6\n",
    "                effective_end_time = end_time - 6\n",
    "\n",
    "                output_file = save_directory + str(i) + \"_\" + str(start_time) + \"_\" + str(end_time) + \".wav\"\n",
    "                duration = end_time - start_time\n",
    "                split_audio_file(input_file, output_file, effective_start_time, duration)"
   ]
  }
 ],
 "metadata": {
  "kernelspec": {
   "display_name": "Python 3",
   "language": "python",
   "name": "python3"
  },
  "language_info": {
   "codemirror_mode": {
    "name": "ipython",
    "version": 3
   },
   "file_extension": ".py",
   "mimetype": "text/x-python",
   "name": "python",
   "nbconvert_exporter": "python",
   "pygments_lexer": "ipython3",
   "version": "3.10.4"
  },
  "orig_nbformat": 4
 },
 "nbformat": 4,
 "nbformat_minor": 2
}
