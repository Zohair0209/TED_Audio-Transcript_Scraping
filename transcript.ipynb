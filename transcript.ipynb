{
 "cells": [
  {
   "cell_type": "code",
   "execution_count": 37,
   "metadata": {},
   "outputs": [],
   "source": [
    "from selenium import webdriver\n",
    "from bs4 import BeautifulSoup\n",
    "from selenium.webdriver.common.by import By\n",
    "from selenium.webdriver.support.ui import WebDriverWait\n",
    "from selenium.webdriver.chrome.service import Service\n",
    "from selenium.webdriver.chrome.options import Options\n",
    "from selenium.webdriver.support import expected_conditions as EC\n",
    "import os\n",
    "import requests\n",
    "\n",
    "# Function to find the url of the transcripts\n",
    "def find_url(url):\n",
    "    # Set up the Chrome driver\n",
    "    chrome_options = Options()\n",
    "    chrome_options.add_argument(\"--headless\")\n",
    "    driver_service = Service('path_to_chromedriver')  # Replace with the path to your chromedriver executable\n",
    "    driver = webdriver.Chrome(service=driver_service, options=chrome_options)\n",
    "\n",
    "    WebDriverWait(driver, 100)\n",
    "\n",
    "    # Open the url\n",
    "    driver.get(url)\n",
    "\n",
    "    # Find the play button\n",
    "    play_button = driver.find_element(By.XPATH, '//*[@id=\"maincontent\"]/div/div/div/div/div[1]/div[2]/div/button')\n",
    "\n",
    "    WebDriverWait(driver, 100).until(EC.presence_of_element_located((By.XPATH, '//*[@id=\"maincontent\"]/div/div/div/div/div[1]/div[2]/div/button/div/div[1]/div[2]/div/div/div/div/div/div')))\n",
    "\n",
    "    # Perform the desired action on the button\n",
    "    WebDriverWait(driver, 100).until(EC.element_to_be_clickable((By.XPATH, '//*[@id=\"maincontent\"]/div/div/div/div/div[1]/div[2]/div/button')))\n",
    "    play_button.click()\n",
    "\n",
    "    # Wait for the page to load completely\n",
    "    wait = WebDriverWait(driver, 10)\n",
    "\n",
    "    page_source = driver.page_source\n",
    "\n",
    "    soup = BeautifulSoup(page_source, 'html.parser')\n",
    "\n",
    "    download_urls = []\n",
    "\n",
    "    for link in soup.find_all('track'):\n",
    "        if (link.get('label')=='Hindi'):\n",
    "            download_urls.append(link.get('src')+str('hi'))\n",
    "        elif (link.get('label')=='English'):\n",
    "            download_urls.append(link.get('src')+str('en'))\n",
    "\n",
    "    return download_urls\n",
    "\n",
    "# Function to download the transcripts\n",
    "def download_transcripts(url, save_directory):\n",
    "    os.makedirs(save_directory, exist_ok=True)\n",
    "\n",
    "    lan = url[-2:]\n",
    "\n",
    "    url = url[:-2]\n",
    "\n",
    "    response = requests.get(url)\n",
    "    if response.status_code == 200:\n",
    "        # Extract the language substring from the URL\n",
    "        if lan == \"en\":\n",
    "            language = \"en\"\n",
    "        elif lan == \"hi\":\n",
    "            language = \"hi\"\n",
    "        else:\n",
    "            language = \"unknown\"\n",
    "\n",
    "        # Generate the filename based on the language\n",
    "        filename = f\"{language}.vtt\"\n",
    "\n",
    "        # Set the save path\n",
    "        save_path = os.path.join(save_directory, filename)\n",
    "\n",
    "        # Save the VTT file\n",
    "        with open(save_path, 'wb') as file:\n",
    "            file.write(response.content)\n",
    "        \n",
    "        print(f\"Downloaded and saved {filename} successfully!\")\n",
    "    else:\n",
    "        print(f\"Failed to download {url}.\")"
   ]
  },
  {
   "cell_type": "code",
   "execution_count": 38,
   "metadata": {},
   "outputs": [],
   "source": [
    "def load_urls_from_file(file_path):\n",
    "    with open(file_path, 'r') as file:\n",
    "        urls = [line.strip() for line in file.readlines()]\n",
    "    return urls\n",
    "\n",
    "url_list = load_urls_from_file(\"relative_path_to_file_containing_urls\")"
   ]
  },
  {
   "cell_type": "code",
   "execution_count": 39,
   "metadata": {},
   "outputs": [
    {
     "data": {
      "text/plain": [
       "10"
      ]
     },
     "execution_count": 39,
     "metadata": {},
     "output_type": "execute_result"
    }
   ],
   "source": [
    "len(url_list)"
   ]
  },
  {
   "cell_type": "code",
   "execution_count": 40,
   "metadata": {},
   "outputs": [
    {
     "name": "stdout",
     "output_type": "stream",
     "text": [
      "Downloading transcript for https://www.ted.com/talks/george_zaidan_the_epidemics_that_almost_happened?language=hi...\n",
      "Downloaded and saved en.vtt successfully!\n",
      "Downloaded and saved hi.vtt successfully!\n",
      "Downloading transcript for https://www.ted.com/talks/ted_ed_is_it_normal_to_talk_to_yourself?language=hi...\n",
      "Downloaded and saved en.vtt successfully!\n",
      "Downloaded and saved hi.vtt successfully!\n",
      "Downloading transcript for https://www.ted.com/talks/joelle_rollo_koster_why_were_there_three_popes_at_the_same_time?language=hi...\n",
      "Downloaded and saved en.vtt successfully!\n",
      "Downloaded and saved hi.vtt successfully!\n",
      "Downloading transcript for https://www.ted.com/talks/nigel_rothfels_can_zoos_actually_save_species_from_extinction?language=hi...\n",
      "Downloaded and saved en.vtt successfully!\n",
      "Downloaded and saved hi.vtt successfully!\n",
      "Downloading transcript for https://www.ted.com/talks/stephanie_honchell_smith_whatever_happened_to_the_hole_in_the_ozone_layer?language=hi...\n",
      "Downloaded and saved en.vtt successfully!\n",
      "Downloaded and saved hi.vtt successfully!\n",
      "Downloading transcript for https://www.ted.com/talks/ted_ed_the_most_important_century_in_human_history?language=hi...\n",
      "Downloaded and saved en.vtt successfully!\n",
      "Downloaded and saved hi.vtt successfully!\n",
      "Downloading transcript for https://www.ted.com/talks/rebekah_shirley_the_clean_energy_hub_of_the_future?language=hi...\n",
      "Downloaded and saved en.vtt successfully!\n",
      "Downloaded and saved hi.vtt successfully!\n",
      "Downloading transcript for https://www.ted.com/talks/mollie_godfrey_one_of_the_most_banned_books_of_all_time?language=hi...\n",
      "Downloaded and saved en.vtt successfully!\n",
      "Downloaded and saved hi.vtt successfully!\n",
      "Downloading transcript for https://www.ted.com/talks/ted_ed_how_will_ai_change_the_world?language=hi...\n",
      "Downloaded and saved en.vtt successfully!\n",
      "Downloaded and saved hi.vtt successfully!\n",
      "Downloading transcript for https://www.ted.com/talks/rebecca_l_walker_how_do_we_determine_the_value_of_a_life?language=hi...\n",
      "Downloaded and saved en.vtt successfully!\n",
      "Downloaded and saved hi.vtt successfully!\n"
     ]
    }
   ],
   "source": [
    "for i in range(len(url_list)):\n",
    "    url = url_list[i]\n",
    "    save_directory = \"relative_path_to_save_directory\"\n",
    "    urls = find_url(url)\n",
    "    print(f\"Downloading transcript for {url}...\")\n",
    "    for url in urls:\n",
    "        download_transcripts(url, save_directory+str(i))"
   ]
  },
  {
   "cell_type": "code",
   "execution_count": null,
   "metadata": {},
   "outputs": [],
   "source": []
  }
 ],
 "metadata": {
  "kernelspec": {
   "display_name": "Python 3",
   "language": "python",
   "name": "python3"
  },
  "language_info": {
   "codemirror_mode": {
    "name": "ipython",
    "version": 3
   },
   "file_extension": ".py",
   "mimetype": "text/x-python",
   "name": "python",
   "nbconvert_exporter": "python",
   "pygments_lexer": "ipython3",
   "version": "3.10.4"
  },
  "orig_nbformat": 4
 },
 "nbformat": 4,
 "nbformat_minor": 2
}
