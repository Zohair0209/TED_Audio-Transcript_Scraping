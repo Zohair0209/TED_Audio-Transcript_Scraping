{
 "cells": [
  {
   "cell_type": "code",
   "execution_count": 1,
   "metadata": {},
   "outputs": [],
   "source": [
    "from selenium import webdriver\n",
    "from selenium.webdriver.common.by import By\n",
    "from selenium.webdriver.support.ui import WebDriverWait\n",
    "from selenium.webdriver.support import expected_conditions as EC\n",
    "from bs4 import BeautifulSoup\n",
    "from selenium.webdriver.chrome.service import Service\n",
    "from selenium.webdriver.chrome.options import Options\n",
    "import re\n",
    "import os\n",
    "import requests\n",
    "\n",
    "def download_video(url, save_directory):\n",
    "    # Create the save directory if it doesn't exist\n",
    "    os.makedirs(save_directory, exist_ok=True)\n",
    "\n",
    "    # Get the filename from the URL\n",
    "    filename = url.split('?')[0].split('/')[-1]\n",
    "\n",
    "    # Path to save the video\n",
    "    save_path = os.path.join(save_directory, filename)\n",
    "\n",
    "    # Send a GET request to download the video\n",
    "    response = requests.get(url, stream=True)\n",
    "\n",
    "    # Check if the request was successful\n",
    "    if response.status_code == 200:\n",
    "        with open(save_path, 'wb') as file:\n",
    "            for chunk in response.iter_content(1024):\n",
    "                file.write(chunk)\n",
    "        print(\"Video downloaded successfully!\")\n",
    "    else:\n",
    "        print(\"Failed to download the video.\")\n",
    "\n",
    "def Video_url_getter(url):\n",
    "    # Set up the Chrome driver\n",
    "    chrome_options = Options()\n",
    "    chrome_options.add_argument(\"--headless\")\n",
    "    driver_service = Service('path_to_chromedriver')  # Replace with the path to your chromedriver executable\n",
    "    driver = webdriver.Chrome(service=driver_service, options=chrome_options)\n",
    "    \n",
    "    try:\n",
    "        # Open the web page\n",
    "        driver.get(url)\n",
    "\n",
    "        # Locate the button element\n",
    "        button = driver.find_element(By.XPATH, '//*[@id=\"maincontent\"]/div/div/div/div/div[2]/div[1]/div[4]/div/div[2]/button')\n",
    "\n",
    "        # Perform the desired action on the button\n",
    "        button.click()\n",
    "\n",
    "        # Wait for the page to load completely\n",
    "        wait = WebDriverWait(driver, 10)\n",
    "        # Add appropriate wait conditions if needed\n",
    "\n",
    "        # Retrieve the response or perform further actions\n",
    "        current_url = driver.current_url\n",
    "        page_source = driver.page_source\n",
    "\n",
    "        # Parse the page source using BeautifulSoup\n",
    "        soup = BeautifulSoup(page_source, 'html.parser')\n",
    "\n",
    "        # Find all the links in the page\n",
    "        links = soup.find_all('a')\n",
    "\n",
    "        # Extract URLs starting with \"https://download\"\n",
    "        download_urls = []\n",
    "        for link in links:\n",
    "            url = link.get('href')\n",
    "            if url and url.startswith('https://download'):\n",
    "                download_urls.append(url)\n",
    "\n",
    "        return download_urls\n",
    "\n",
    "    finally:\n",
    "        driver.quit()"
   ]
  },
  {
   "cell_type": "code",
   "execution_count": 2,
   "metadata": {},
   "outputs": [],
   "source": [
    "def select_urls_with_mp4_substring(urls):\n",
    "    # Select URLs with \".mp4\" as a substring\n",
    "    mp4_urls = [url for url in urls if \".mp4\" in url]\n",
    "\n",
    "    return mp4_urls"
   ]
  },
  {
   "cell_type": "code",
   "execution_count": 2,
   "metadata": {},
   "outputs": [],
   "source": [
    "def load_urls_from_file(file_path):\n",
    "    with open(file_path, 'r') as file:\n",
    "        urls = [line.strip() for line in file.readlines()]\n",
    "    return urls\n",
    "\n",
    "url_list = load_urls_from_file(\"relative_path_to_file_containing_urls\")"
   ]
  },
  {
   "cell_type": "code",
   "execution_count": 3,
   "metadata": {},
   "outputs": [
    {
     "data": {
      "text/plain": [
       "10"
      ]
     },
     "execution_count": 3,
     "metadata": {},
     "output_type": "execute_result"
    }
   ],
   "source": [
    "len(url_list)"
   ]
  },
  {
   "cell_type": "code",
   "execution_count": 6,
   "metadata": {},
   "outputs": [
    {
     "name": "stdout",
     "output_type": "stream",
     "text": [
      "['https://download.ted.com/products/166342.mp4?apikey=acme-roadrunner']\n",
      "Video downloaded successfully!\n",
      "['https://download.ted.com/products/166267.mp4?apikey=acme-roadrunner']\n",
      "Video downloaded successfully!\n",
      "['https://download.ted.com/products/166152.mp4?apikey=acme-roadrunner']\n",
      "Video downloaded successfully!\n",
      "['https://download.ted.com/products/165004.mp4?apikey=acme-roadrunner']\n",
      "Video downloaded successfully!\n",
      "['https://download.ted.com/products/165009.mp4?apikey=acme-roadrunner']\n",
      "Video downloaded successfully!\n",
      "['https://download.ted.com/products/164878.mp4?apikey=acme-roadrunner']\n",
      "Video downloaded successfully!\n",
      "['https://download.ted.com/products/163647.mp4?apikey=acme-roadrunner']\n",
      "Video downloaded successfully!\n",
      "['https://download.ted.com/products/163005.mp4?apikey=acme-roadrunner']\n",
      "Video downloaded successfully!\n",
      "['https://download.ted.com/products/161620.mp4?apikey=acme-roadrunner']\n",
      "Video downloaded successfully!\n",
      "['https://download.ted.com/products/157330.mp4?apikey=acme-roadrunner']\n",
      "Video downloaded successfully!\n"
     ]
    }
   ],
   "source": [
    "for i in range(len(url_list)):\n",
    "    url = url_list[i]\n",
    "    # print(url)\n",
    "    video_urls = Video_url_getter(url)\n",
    "    mp4_urls = select_urls_with_mp4_substring(video_urls)\n",
    "    video_urls = list(set(mp4_urls))\n",
    "    # print(mp4_urls)\n",
    "    print(video_urls)\n",
    "    download_video(mp4_urls[0], \"path_to_folder_where_video_is_to_be_downloaded\"+str(i))"
   ]
  },
  {
   "cell_type": "code",
   "execution_count": 7,
   "metadata": {},
   "outputs": [
    {
     "name": "stdout",
     "output_type": "stream",
     "text": [
      "MoviePy - Writing audio in 166342.wav\n"
     ]
    },
    {
     "name": "stderr",
     "output_type": "stream",
     "text": [
      "                                                                      \r"
     ]
    },
    {
     "name": "stdout",
     "output_type": "stream",
     "text": [
      "MoviePy - Done.\n",
      "MoviePy - Writing audio in 166267.wav\n"
     ]
    },
    {
     "name": "stderr",
     "output_type": "stream",
     "text": [
      "                                                                      \r"
     ]
    },
    {
     "name": "stdout",
     "output_type": "stream",
     "text": [
      "MoviePy - Done.\n",
      "MoviePy - Writing audio in 166152.wav\n"
     ]
    },
    {
     "name": "stderr",
     "output_type": "stream",
     "text": [
      "                                                                      \r"
     ]
    },
    {
     "name": "stdout",
     "output_type": "stream",
     "text": [
      "MoviePy - Done.\n",
      "MoviePy - Writing audio in 165004.wav\n"
     ]
    },
    {
     "name": "stderr",
     "output_type": "stream",
     "text": [
      "                                                                      \r"
     ]
    },
    {
     "name": "stdout",
     "output_type": "stream",
     "text": [
      "MoviePy - Done.\n",
      "MoviePy - Writing audio in 165009.wav\n"
     ]
    },
    {
     "name": "stderr",
     "output_type": "stream",
     "text": [
      "                                                                      \r"
     ]
    },
    {
     "name": "stdout",
     "output_type": "stream",
     "text": [
      "MoviePy - Done.\n",
      "MoviePy - Writing audio in 164878.wav\n"
     ]
    },
    {
     "name": "stderr",
     "output_type": "stream",
     "text": [
      "                                                                      \r"
     ]
    },
    {
     "name": "stdout",
     "output_type": "stream",
     "text": [
      "MoviePy - Done.\n",
      "MoviePy - Writing audio in 163647.wav\n"
     ]
    },
    {
     "name": "stderr",
     "output_type": "stream",
     "text": [
      "                                                                       \r"
     ]
    },
    {
     "name": "stdout",
     "output_type": "stream",
     "text": [
      "MoviePy - Done.\n",
      "MoviePy - Writing audio in 163005.wav\n"
     ]
    },
    {
     "name": "stderr",
     "output_type": "stream",
     "text": [
      "                                                                      \r"
     ]
    },
    {
     "name": "stdout",
     "output_type": "stream",
     "text": [
      "MoviePy - Done.\n",
      "MoviePy - Writing audio in 161620.wav\n"
     ]
    },
    {
     "name": "stderr",
     "output_type": "stream",
     "text": [
      "                                                                      \r"
     ]
    },
    {
     "name": "stdout",
     "output_type": "stream",
     "text": [
      "MoviePy - Done.\n",
      "MoviePy - Writing audio in 157330.wav\n"
     ]
    },
    {
     "name": "stderr",
     "output_type": "stream",
     "text": [
      "                                                                      "
     ]
    },
    {
     "name": "stdout",
     "output_type": "stream",
     "text": [
      "MoviePy - Done.\n"
     ]
    },
    {
     "name": "stderr",
     "output_type": "stream",
     "text": [
      "\r"
     ]
    }
   ],
   "source": [
    "import os\n",
    "import moviepy.editor as mp\n",
    "\n",
    "for i in range(len(url_list)):\n",
    "    path = \"path_to_folder_where_video_has_been_downloaded\"+str(i)\n",
    "    os.chdir(path)\n",
    "    for file in os.listdir():\n",
    "        if file.endswith(\".mp4\"):\n",
    "            video = mp.VideoFileClip(file)\n",
    "            audio = video.audio\n",
    "            audio.write_audiofile(file[:-3]+\"wav\")"
   ]
  },
  {
   "cell_type": "code",
   "execution_count": 4,
   "metadata": {},
   "outputs": [],
   "source": [
    "import os\n",
    "\n",
    "for i in range(len(url_list)):\n",
    "    path = \"path_to_folder_where_video_has_been_downloaded\"+str(i)\n",
    "    os.chdir(path)\n",
    "    for file in os.listdir():\n",
    "        if file.endswith(\".mp4\"):\n",
    "            os.remove(file)"
   ]
  },
  {
   "cell_type": "code",
   "execution_count": null,
   "metadata": {},
   "outputs": [],
   "source": []
  }
 ],
 "metadata": {
  "kernelspec": {
   "display_name": "Python 3",
   "language": "python",
   "name": "python3"
  },
  "language_info": {
   "codemirror_mode": {
    "name": "ipython",
    "version": 3
   },
   "file_extension": ".py",
   "mimetype": "text/x-python",
   "name": "python",
   "nbconvert_exporter": "python",
   "pygments_lexer": "ipython3",
   "version": "3.10.4"
  },
  "orig_nbformat": 4
 },
 "nbformat": 4,
 "nbformat_minor": 2
}
